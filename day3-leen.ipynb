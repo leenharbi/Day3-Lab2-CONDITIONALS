{
 "cells": [
  {
   "cell_type": "markdown",
   "id": "f9223101",
   "metadata": {},
   "source": [
    "# Leen alharbi\n",
    "--------------------\n",
    "#Day3-Lab2-CONDITIONALS\n",
    "----------"
   ]
  },
  {
   "cell_type": "markdown",
   "id": "2c1925f0",
   "metadata": {},
   "source": [
    " i want to recommend a movie to a friend based on the rating and popularity"
   ]
  },
  {
   "cell_type": "code",
   "execution_count": 1,
   "id": "42475f70",
   "metadata": {},
   "outputs": [],
   "source": [
    "littleWomen1 = 3\n",
    "littleWomen2 = 72.65\n",
    "r = 5\n",
    "p = 100.0"
   ]
  },
  {
   "cell_type": "code",
   "execution_count": 2,
   "id": "8281d0bf",
   "metadata": {},
   "outputs": [
    {
     "name": "stdout",
     "output_type": "stream",
     "text": [
      "You should check it out!\n"
     ]
    }
   ],
   "source": [
    "r = littleWomen1\n",
    "p = littleWomen2\n",
    "if r >= 4 & int(p) >= int(80.0) :\n",
    "    print('Highly recommended')\n",
    "        \n",
    "elif r >= 3 & int(p) >= int(70.0) :\n",
    "    print('I recommended it . It is good')\n",
    "    \n",
    "elif r >= 2 & int(p) >= int(60.0):\n",
    "    print('You should check it out!')\n",
    "    \n",
    "elif r >= 2 & int(p) <= int(50.0):\n",
    "    print('You should check it out!')\n",
    "    \n",
    "else:\n",
    "    print(\"Don't watch it. It is a waste of time\")"
   ]
  },
  {
   "cell_type": "code",
   "execution_count": 3,
   "id": "09854d20",
   "metadata": {},
   "outputs": [
    {
     "name": "stdout",
     "output_type": "stream",
     "text": [
      "I recommended it . It is good\n"
     ]
    }
   ],
   "source": [
    "p = littleWomen2\n",
    "if p >= 80.0:\n",
    "    print('Highly recommended')\n",
    "elif p >= 70.0:\n",
    "    print('I recommended it . It is good')\n",
    "elif p >= 60.0:\n",
    "    print('You should check it out!')\n",
    "elif p <= 50.0:\n",
    "    print('You should check it out!')\n",
    "else:\n",
    "    print(\"Don't watch it. It is a waste of time\")"
   ]
  }
 ],
 "metadata": {
  "kernelspec": {
   "display_name": "Python 3 (ipykernel)",
   "language": "python",
   "name": "python3"
  },
  "language_info": {
   "codemirror_mode": {
    "name": "ipython",
    "version": 3
   },
   "file_extension": ".py",
   "mimetype": "text/x-python",
   "name": "python",
   "nbconvert_exporter": "python",
   "pygments_lexer": "ipython3",
   "version": "3.9.7"
  }
 },
 "nbformat": 4,
 "nbformat_minor": 5
}
